{
 "cells": [
  {
   "cell_type": "code",
   "execution_count": 3,
   "metadata": {
    "collapsed": false
   },
   "outputs": [
    {
     "name": "stdout",
     "output_type": "stream",
     "text": [
      "[('这种情况', 77), ('没有什么', 70), ('这个问题', 56), ('因为他们', 54), ('如果我们', 47), ('这种观点', 46), ('所有这些', 44), ('这个世界', 40), ('他们自己', 38), ('我们可以', 37)]\n"
     ]
    }
   ],
   "source": [
    "# -*- coding: utf-8 -*-\n",
    "# python3\n",
    "\n",
    "from  collections  import Counter\n",
    "# 打开文件，读取内容，并把词存于一个list里\n",
    "loadFile = open(\"happiness_seg.txt\")\n",
    "content = loadFile.read()\n",
    "wordList = content.split(\" \")\n",
    "\n",
    "words = {}\n",
    "c = Counter()\n",
    "for i in range(1,(len(wordList) - 1)) :\n",
    "    if len(wordList[i]) == 2 and len(wordList[i + 1]) == 2:\n",
    "        double_words = wordList[i] + wordList[i + 1]\n",
    "        c[double_words] = c[double_words] + 1\n",
    "\n",
    "print(c.most_common(10))\n"
   ]
  },
  {
   "cell_type": "code",
   "execution_count": null,
   "metadata": {
    "collapsed": true
   },
   "outputs": [],
   "source": []
  }
 ],
 "metadata": {
  "anaconda-cloud": {},
  "kernelspec": {
   "display_name": "Python 3",
   "language": "python",
   "name": "python3"
  },
  "language_info": {
   "codemirror_mode": {
    "name": "ipython",
    "version": 3
   },
   "file_extension": ".py",
   "mimetype": "text/x-python",
   "name": "python",
   "nbconvert_exporter": "python",
   "pygments_lexer": "ipython3",
   "version": "3.5.2"
  }
 },
 "nbformat": 4,
 "nbformat_minor": 1
}
